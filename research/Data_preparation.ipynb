{
 "cells": [
  {
   "cell_type": "code",
   "execution_count": 31,
   "metadata": {},
   "outputs": [],
   "source": [
    "import os"
   ]
  },
  {
   "cell_type": "code",
   "execution_count": 12,
   "metadata": {},
   "outputs": [
    {
     "data": {
      "text/plain": [
       "'e:\\\\My Projects\\\\Deep Learning\\\\RailwayTrackFaultDetection\\\\RailwayTrackFaultDetection\\\\research'"
      ]
     },
     "execution_count": 12,
     "metadata": {},
     "output_type": "execute_result"
    }
   ],
   "source": [
    "%pwd"
   ]
  },
  {
   "cell_type": "code",
   "execution_count": 13,
   "metadata": {},
   "outputs": [],
   "source": [
    "os.chdir(\"../\")"
   ]
  },
  {
   "cell_type": "code",
   "execution_count": 14,
   "metadata": {},
   "outputs": [
    {
     "data": {
      "text/plain": [
       "'e:\\\\My Projects\\\\Deep Learning\\\\RailwayTrackFaultDetection\\\\RailwayTrackFaultDetection'"
      ]
     },
     "execution_count": 14,
     "metadata": {},
     "output_type": "execute_result"
    }
   ],
   "source": [
    "%pwd"
   ]
  },
  {
   "cell_type": "code",
   "execution_count": 32,
   "metadata": {},
   "outputs": [],
   "source": [
    "from dataclasses import dataclass\n",
    "from pathlib import Path\n",
    "\n",
    "\n",
    "@dataclass(frozen=True)\n",
    "class TrainingConfig:\n",
    "    root_dir: Path\n",
    "    trained_model_path: Path\n",
    "    updated_base_model_path: Path\n",
    "    training_data: Path\n",
    "    params_epochs: int\n",
    "    params_batch_size: int\n",
    "    params_is_augmentation: bool\n",
    "    params_image_size: list"
   ]
  },
  {
   "cell_type": "code",
   "execution_count": 33,
   "metadata": {},
   "outputs": [],
   "source": [
    "#configuration manager\n",
    "from cnnClassifier.constants import *\n",
    "from cnnClassifier.utils.common import read_yaml, create_directories\n",
    "import tensorflow as tf"
   ]
  },
  {
   "cell_type": "code",
   "execution_count": 34,
   "metadata": {},
   "outputs": [],
   "source": [
    "class ConfigurationManager:\n",
    "    def __init__(\n",
    "        self,\n",
    "        config_filepath = CONFIG_FILE_PATH,\n",
    "        params_filepath = PARAMS_FILE_PATH):\n",
    "\n",
    "        self.config = read_yaml(config_filepath)\n",
    "        self.params = read_yaml(params_filepath)\n",
    "\n",
    "        create_directories([self.config.artifacts_root])\n",
    "\n",
    "\n",
    "    \n",
    "    def get_training_config(self) -> TrainingConfig:\n",
    "        training = self.config.training\n",
    "        prepare_base_model = self.config.prepare_base_model\n",
    "        params = self.params\n",
    "        training_data = os.path.join(self.config.data_ingestion.unzip_dir, \"Railway Track fault Detection Updated\")\n",
    "        create_directories([\n",
    "            Path(training.root_dir)\n",
    "        ])\n",
    "\n",
    "        training_config = TrainingConfig(\n",
    "            root_dir=Path(training.root_dir),\n",
    "            trained_model_path=Path(training.trained_model_path),\n",
    "            updated_base_model_path=Path(prepare_base_model.updated_base_model_path),\n",
    "            training_data=Path(training_data),\n",
    "            params_epochs=params.EPOCHS,\n",
    "            params_batch_size=params.BATCH_SIZE,\n",
    "            params_is_augmentation=params.AUGMENTATION,\n",
    "            params_image_size=params.IMAGE_SIZE\n",
    "        )\n",
    "\n",
    "        return training_config"
   ]
  },
  {
   "cell_type": "code",
   "execution_count": 36,
   "metadata": {},
   "outputs": [],
   "source": [
    "import os\n",
    "import urllib.request as request\n",
    "from zipfile import ZipFile\n",
    "import tensorflow as tf\n",
    "import time"
   ]
  },
  {
   "cell_type": "code",
   "execution_count": 37,
   "metadata": {},
   "outputs": [],
   "source": [
    "class Training:\n",
    "    def __init__(self, config: TrainingConfig):\n",
    "        self.config = config\n",
    "\n",
    "    \n",
    "    def get_base_model(self):\n",
    "        self.model = tf.keras.models.load_model(\n",
    "            self.config.updated_base_model_path\n",
    "        )\n",
    "\n",
    "    def train_valid_generator(self):\n",
    "\n",
    "        datagenerator_kwargs = dict(\n",
    "            rescale = 1./255,\n",
    "            validation_split=0.20\n",
    "        )\n",
    "\n",
    "        dataflow_kwargs = dict(\n",
    "            target_size=self.config.params_image_size[:-1],\n",
    "            batch_size=self.config.params_batch_size,\n",
    "            interpolation=\"bilinear\"\n",
    "        )\n",
    "\n",
    "        valid_datagenerator = tf.keras.preprocessing.image.ImageDataGenerator(\n",
    "            **datagenerator_kwargs\n",
    "        )\n",
    "\n",
    "        self.valid_generator = valid_datagenerator.flow_from_directory(\n",
    "            directory=self.config.training_data,\n",
    "            subset=\"validation\",\n",
    "            shuffle=False,\n",
    "            **dataflow_kwargs\n",
    "        )\n",
    "\n",
    "        if self.config.params_is_augmentation:\n",
    "            train_datagenerator = tf.keras.preprocessing.image.ImageDataGenerator(\n",
    "                rotation_range=40,\n",
    "                horizontal_flip=True,\n",
    "                width_shift_range=0.2,\n",
    "                height_shift_range=0.2,\n",
    "                shear_range=0.2,\n",
    "                zoom_range=0.2,\n",
    "                **datagenerator_kwargs\n",
    "            )\n",
    "        else:\n",
    "            train_datagenerator = valid_datagenerator\n",
    "\n",
    "        self.train_generator = train_datagenerator.flow_from_directory(\n",
    "            directory=self.config.training_data,\n",
    "            subset=\"training\",\n",
    "            shuffle=True,\n",
    "            **dataflow_kwargs\n",
    "        )\n",
    "\n",
    "    \n",
    "    @staticmethod\n",
    "    def save_model(path: Path, model: tf.keras.Model):\n",
    "        model.save(path)\n",
    "\n",
    "\n",
    "\n",
    "    \n",
    "    def train(self):\n",
    "        self.steps_per_epoch = self.train_generator.samples // self.train_generator.batch_size\n",
    "        self.validation_steps = self.valid_generator.samples // self.valid_generator.batch_size\n",
    "\n",
    "        self.model.fit(\n",
    "            self.train_generator,\n",
    "            epochs=self.config.params_epochs,\n",
    "            steps_per_epoch=self.steps_per_epoch,\n",
    "            validation_steps=self.validation_steps,\n",
    "            validation_data=self.valid_generator\n",
    "        )\n",
    "\n",
    "        self.save_model(\n",
    "            path=self.config.trained_model_path,\n",
    "            model=self.model\n",
    "        )"
   ]
  },
  {
   "cell_type": "code",
   "execution_count": 38,
   "metadata": {},
   "outputs": [
    {
     "name": "stdout",
     "output_type": "stream",
     "text": [
      "[2024-01-26 10:03:01,271: INFO: common: yaml file: config\\config.yaml loaded successfully]\n",
      "[2024-01-26 10:03:01,286: INFO: common: yaml file: params.yaml loaded successfully]\n",
      "[2024-01-26 10:03:01,298: INFO: common: created directory at: artifacts]\n",
      "[2024-01-26 10:03:01,300: INFO: common: created directory at: artifacts\\training]\n",
      "Found 76 images belonging to 2 classes.\n",
      "Found 307 images belonging to 2 classes.\n",
      "Epoch 1/30\n",
      "9/9 [==============================] - 182s 21s/step - loss: 15.9207 - accuracy: 0.5000 - val_loss: 10.9167 - val_accuracy: 0.5938\n",
      "Epoch 2/30\n",
      "9/9 [==============================] - 172s 20s/step - loss: 15.7197 - accuracy: 0.5236 - val_loss: 14.9115 - val_accuracy: 0.5938\n",
      "Epoch 3/30\n",
      "9/9 [==============================] - 184s 21s/step - loss: 17.0382 - accuracy: 0.4982 - val_loss: 27.5907 - val_accuracy: 0.4062\n",
      "Epoch 4/30\n",
      "9/9 [==============================] - 198s 23s/step - loss: 17.7875 - accuracy: 0.4727 - val_loss: 3.4968 - val_accuracy: 0.6719\n",
      "Epoch 5/30\n",
      "9/9 [==============================] - 191s 22s/step - loss: 15.5866 - accuracy: 0.4909 - val_loss: 10.5163 - val_accuracy: 0.4062\n",
      "Epoch 6/30\n",
      "9/9 [==============================] - 221s 25s/step - loss: 14.6766 - accuracy: 0.4945 - val_loss: 4.8108 - val_accuracy: 0.6719\n",
      "Epoch 7/30\n",
      "9/9 [==============================] - 257s 29s/step - loss: 7.0841 - accuracy: 0.6182 - val_loss: 11.6638 - val_accuracy: 0.5938\n",
      "Epoch 8/30\n",
      "9/9 [==============================] - 261s 31s/step - loss: 10.2736 - accuracy: 0.5745 - val_loss: 23.6864 - val_accuracy: 0.4062\n",
      "Epoch 9/30\n",
      "9/9 [==============================] - 251s 28s/step - loss: 12.4700 - accuracy: 0.5236 - val_loss: 15.5683 - val_accuracy: 0.5938\n",
      "Epoch 10/30\n",
      "9/9 [==============================] - 233s 25s/step - loss: 14.9931 - accuracy: 0.4909 - val_loss: 5.4043 - val_accuracy: 0.6562\n",
      "Epoch 11/30\n",
      "9/9 [==============================] - 244s 28s/step - loss: 12.9043 - accuracy: 0.5200 - val_loss: 12.0077 - val_accuracy: 0.4688\n",
      "Epoch 12/30\n",
      "9/9 [==============================] - 223s 26s/step - loss: 5.7343 - accuracy: 0.6655 - val_loss: 9.5999 - val_accuracy: 0.6250\n",
      "Epoch 13/30\n",
      "9/9 [==============================] - 209s 24s/step - loss: 10.1964 - accuracy: 0.5491 - val_loss: 26.8922 - val_accuracy: 0.4062\n",
      "Epoch 14/30\n",
      "9/9 [==============================] - 230s 26s/step - loss: 9.7198 - accuracy: 0.5868 - val_loss: 5.5442 - val_accuracy: 0.6562\n",
      "Epoch 15/30\n",
      "9/9 [==============================] - 173s 18s/step - loss: 4.7713 - accuracy: 0.6945 - val_loss: 18.9610 - val_accuracy: 0.4062\n",
      "Epoch 16/30\n",
      "9/9 [==============================] - 135s 15s/step - loss: 14.1931 - accuracy: 0.4873 - val_loss: 6.8518 - val_accuracy: 0.6719\n",
      "Epoch 17/30\n",
      "9/9 [==============================] - 143s 16s/step - loss: 10.4361 - accuracy: 0.5564 - val_loss: 23.7385 - val_accuracy: 0.4062\n",
      "Epoch 18/30\n",
      "9/9 [==============================] - 140s 16s/step - loss: 11.7447 - accuracy: 0.5745 - val_loss: 6.2565 - val_accuracy: 0.6562\n",
      "Epoch 19/30\n",
      "9/9 [==============================] - 161s 18s/step - loss: 7.8717 - accuracy: 0.6364 - val_loss: 9.8637 - val_accuracy: 0.6250\n",
      "Epoch 20/30\n",
      "9/9 [==============================] - 142s 16s/step - loss: 5.8475 - accuracy: 0.6982 - val_loss: 5.1871 - val_accuracy: 0.6562\n",
      "Epoch 21/30\n",
      "9/9 [==============================] - 147s 17s/step - loss: 6.2257 - accuracy: 0.6764 - val_loss: 10.0762 - val_accuracy: 0.5312\n",
      "Epoch 22/30\n",
      "9/9 [==============================] - 147s 17s/step - loss: 4.7603 - accuracy: 0.7091 - val_loss: 7.1933 - val_accuracy: 0.5781\n",
      "Epoch 23/30\n",
      "9/9 [==============================] - 149s 17s/step - loss: 7.3067 - accuracy: 0.6327 - val_loss: 6.4997 - val_accuracy: 0.6875\n",
      "Epoch 24/30\n",
      "9/9 [==============================] - 151s 17s/step - loss: 9.0543 - accuracy: 0.5964 - val_loss: 21.1254 - val_accuracy: 0.4062\n",
      "Epoch 25/30\n",
      "9/9 [==============================] - 152s 17s/step - loss: 8.7842 - accuracy: 0.5636 - val_loss: 16.9065 - val_accuracy: 0.5938\n",
      "Epoch 26/30\n",
      "9/9 [==============================] - 174s 20s/step - loss: 11.6187 - accuracy: 0.5491 - val_loss: 17.3491 - val_accuracy: 0.5000\n",
      "Epoch 27/30\n",
      "9/9 [==============================] - 193s 22s/step - loss: 9.3471 - accuracy: 0.5782 - val_loss: 15.7168 - val_accuracy: 0.5000\n",
      "Epoch 28/30\n",
      "9/9 [==============================] - 187s 21s/step - loss: 6.6365 - accuracy: 0.6400 - val_loss: 4.8125 - val_accuracy: 0.6875\n",
      "Epoch 29/30\n",
      "9/9 [==============================] - 209s 24s/step - loss: 5.0881 - accuracy: 0.6582 - val_loss: 12.0969 - val_accuracy: 0.5469\n",
      "Epoch 30/30\n",
      "9/9 [==============================] - 220s 24s/step - loss: 4.6365 - accuracy: 0.7200 - val_loss: 4.6947 - val_accuracy: 0.6875\n"
     ]
    }
   ],
   "source": [
    "try:\n",
    "    config = ConfigurationManager()\n",
    "    training_config = config.get_training_config()\n",
    "    training = Training(config=training_config)\n",
    "    training.get_base_model()\n",
    "    training.train_valid_generator()\n",
    "    training.train()\n",
    "    \n",
    "except Exception as e:\n",
    "    raise e"
   ]
  },
  {
   "cell_type": "code",
   "execution_count": null,
   "metadata": {},
   "outputs": [],
   "source": []
  }
 ],
 "metadata": {
  "kernelspec": {
   "display_name": "RTFD",
   "language": "python",
   "name": "python3"
  },
  "language_info": {
   "codemirror_mode": {
    "name": "ipython",
    "version": 3
   },
   "file_extension": ".py",
   "mimetype": "text/x-python",
   "name": "python",
   "nbconvert_exporter": "python",
   "pygments_lexer": "ipython3",
   "version": "3.11.5"
  }
 },
 "nbformat": 4,
 "nbformat_minor": 2
}
